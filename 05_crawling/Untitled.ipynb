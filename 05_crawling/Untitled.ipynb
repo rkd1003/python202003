{
 "cells": [
  {
   "cell_type": "code",
   "execution_count": 2,
   "metadata": {},
   "outputs": [],
   "source": [
    "import urllib.request\n",
    "#import os"
   ]
  },
  {
   "cell_type": "code",
   "execution_count": 3,
   "metadata": {},
   "outputs": [
    {
     "data": {
      "text/plain": [
       "('test.png', <http.client.HTTPMessage at 0x7fa4c580e310>)"
      ]
     },
     "execution_count": 3,
     "metadata": {},
     "output_type": "execute_result"
    }
   ],
   "source": [
    "#이미지의 주소\n",
    "url='https://t1.daumcdn.net/cfile/tistory/2555BE4751A6DB9832'\n",
    "\n",
    "#실행하는 파일의 경로를 찾아서 같은 경로에 이미지 저장\n",
    "savename='test.png'\n",
    "\n",
    "#파일로 저장\n",
    "urllib.request.urlretrieve(url,savename)"
   ]
  },
  {
   "cell_type": "code",
   "execution_count": 4,
   "metadata": {},
   "outputs": [
    {
     "ename": "SyntaxError",
     "evalue": "invalid syntax (<ipython-input-4-d1d80d7b4c5c>, line 1)",
     "output_type": "error",
     "traceback": [
      "\u001b[0;36m  File \u001b[0;32m\"<ipython-input-4-d1d80d7b4c5c>\"\u001b[0;36m, line \u001b[0;32m1\u001b[0m\n\u001b[0;31m    ('test.png', <http.client.HTTPMessage at 0x7f68c838d8d0>)\u001b[0m\n\u001b[0m                 ^\u001b[0m\n\u001b[0;31mSyntaxError\u001b[0m\u001b[0;31m:\u001b[0m invalid syntax\n"
     ]
    }
   ],
   "source": [
    "('test.png', <http.client.HTTPMessage at 0x7f68c838d8d0>)"
   ]
  },
  {
   "cell_type": "code",
   "execution_count": null,
   "metadata": {},
   "outputs": [],
   "source": [
    "import urllib.request\n",
    "\n",
    "url='https://www.istarbucks.co.kr/index.do'\n",
    "\n",
    "mem=urllib.request.urlopen(url).read()\n",
    "print(mem.decode('utf-8'))"
   ]
  },
  {
   "cell_type": "code",
   "execution_count": null,
   "metadata": {},
   "outputs": [],
   "source": [
    "import urllib.request\n",
    "import urllib.parse\n",
    "\n",
    "# https://search.naver.com/search.naver?sm=top_hty&fbm=0&ie=utf8&query=%EC%B4%88%EC%BD%94%EB%A6%BF\n",
    "api='https://search.naver.com/search.naver'\n",
    "values={\n",
    "    'sm':'top_hty',\n",
    "    'fbm':'0',\n",
    "    'ie': 'utf8',\n",
    "    'query':'초코릿'\n",
    "}\n",
    "\n",
    "query=input(\"검색어를 입력하세요 : \")\n",
    "values['query']=query\n",
    "\n",
    "params=urllib.parse.urlencode(values) #위에 values값을 완성되게 만들어주는거\n",
    "print(params)\n",
    "\n",
    "url= api + '?' + params\n",
    "data= urllib.request.urlopen(url).read()\n",
    "# print(data)  # 한글입력 안됨\n",
    "text=data.decode('utf-8')\n",
    "print(text)"
   ]
  },
  {
   "cell_type": "code",
   "execution_count": null,
   "metadata": {},
   "outputs": [],
   "source": [
    "html_doc  =  \"\"\" \n",
    "<html> <head> <title> \n",
    "도마 우스 이야기 </ title> </ head> <body> \n",
    "<p class =\"title \"> <b> 도마뱀 이야기 </ b> </ p>\n",
    "\n",
    "<p class = \"story\"> 한 번에 세 명의 여동생이있었습니다. 이름은 \n",
    "<a href=\"http://example.com/elsie\" class=\"sister\" id=\"link1\"> 엘리 </a>, \n",
    "<a href = \"http://example.com/lacie \"class =\"sister \"id =\"link2 \"> Lacie </a> 및 \n",
    "<a href=\"http://example.com/tillie\" class=\"sister\" id=\"link3\"> 틸리 </a>; \n",
    "우물 바닥에서 살았습니다. </ p>\n",
    "\n",
    "<p class = \"story\"> ... </ p> \n",
    "\"\"\""
   ]
  },
  {
   "cell_type": "code",
   "execution_count": 1,
   "metadata": {},
   "outputs": [
    {
     "name": "stdout",
     "output_type": "stream",
     "text": [
      "Note: you may need to restart the kernel to use updated packages.\n"
     ]
    }
   ],
   "source": [
    "pip show BeautifulSoup"
   ]
  },
  {
   "cell_type": "code",
   "execution_count": null,
   "metadata": {},
   "outputs": [],
   "source": [
    "print(type(html_doc))"
   ]
  },
  {
   "cell_type": "code",
   "execution_count": null,
   "metadata": {},
   "outputs": [],
   "source": []
  }
 ],
 "metadata": {
  "kernelspec": {
   "display_name": "Python 3",
   "language": "python",
   "name": "python3"
  },
  "language_info": {
   "codemirror_mode": {
    "name": "ipython",
    "version": 3
   },
   "file_extension": ".py",
   "mimetype": "text/x-python",
   "name": "python",
   "nbconvert_exporter": "python",
   "pygments_lexer": "ipython3",
   "version": "3.7.4"
  }
 },
 "nbformat": 4,
 "nbformat_minor": 4
}
